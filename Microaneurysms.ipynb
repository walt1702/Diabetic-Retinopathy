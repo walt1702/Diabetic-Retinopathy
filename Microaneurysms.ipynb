{
  "nbformat": 4,
  "nbformat_minor": 0,
  "metadata": {
    "colab": {
      "name": "Microaneurysms.ipynb",
      "provenance": [],
      "collapsed_sections": [],
      "authorship_tag": "ABX9TyOBBHogLPN+znkbWJREeyf4"
    },
    "kernelspec": {
      "name": "python3",
      "display_name": "Python 3"
    },
    "accelerator": "GPU"
  },
  "cells": [
    {
      "cell_type": "code",
      "metadata": {
        "id": "abO4bL3pmLiq",
        "colab_type": "code",
        "colab": {}
      },
      "source": [
        "from os import listdir\n",
        "from numpy import asarray\n",
        "from numpy import vstack\n",
        "from keras.preprocessing.image import img_to_array\n",
        "from keras.preprocessing.image import load_img\n",
        "from numpy import savez_compressed\n",
        "import tensorflow as tf"
      ],
      "execution_count": 0,
      "outputs": []
    },
    {
      "cell_type": "code",
      "metadata": {
        "id": "6NDUxOQ28loY",
        "colab_type": "code",
        "colab": {
          "base_uri": "https://localhost:8080/",
          "height": 34
        },
        "outputId": "ca6bc9d5-ba4b-4602-9cde-a3ee03d9e224"
      },
      "source": [
        "device = tf.test.gpu_device_name()\n",
        "if device != '/device:GPU:0':\n",
        "  raise SystemError('GPU device not found')\n",
        "print('Found GPU at: {}'.format(device))"
      ],
      "execution_count": 69,
      "outputs": [
        {
          "output_type": "stream",
          "text": [
            "Found GPU at: /device:GPU:0\n"
          ],
          "name": "stdout"
        }
      ]
    },
    {
      "cell_type": "code",
      "metadata": {
        "id": "dNmSYvIYvDl3",
        "colab_type": "code",
        "colab": {}
      },
      "source": [
        "import numpy"
      ],
      "execution_count": 0,
      "outputs": []
    },
    {
      "cell_type": "code",
      "metadata": {
        "id": "IOJz-ercm6Te",
        "colab_type": "code",
        "outputId": "1246b4c0-9d4a-4e7d-9919-e2c0a9928e54",
        "colab": {
          "base_uri": "https://localhost:8080/",
          "height": 34
        }
      },
      "source": [
        "from google.colab import drive\n",
        "drive.mount('/content/drive')"
      ],
      "execution_count": 67,
      "outputs": [
        {
          "output_type": "stream",
          "text": [
            "Drive already mounted at /content/drive; to attempt to forcibly remount, call drive.mount(\"/content/drive\", force_remount=True).\n"
          ],
          "name": "stdout"
        }
      ]
    },
    {
      "cell_type": "code",
      "metadata": {
        "id": "EENPouxEnEMV",
        "colab_type": "code",
        "colab": {}
      },
      "source": [
        "def load_images(path, size=(1024,1024)):\n",
        "\tsrc_list = list()\n",
        "\t# enumerate filenames in directory, assume all are images\n",
        "\tfor filename in listdir(path):\n",
        "\t\t# load and resize the image\n",
        "\t\tpixels = load_img(path + '/'+ filename, target_size=size)\n",
        "\t\t# convert to numpy array\n",
        "\t\tpixels = img_to_array(pixels)\n",
        "\t\t# split into satellite and map\n",
        "\t\t#sat_img = pixels[:, :256]\n",
        "\t\tsrc_list.append(pixels)\n",
        "\t\t#tar_list.append(map_img)\n",
        "\treturn asarray(src_list)"
      ],
      "execution_count": 0,
      "outputs": []
    },
    {
      "cell_type": "code",
      "metadata": {
        "id": "42sPulhcnPda",
        "colab_type": "code",
        "colab": {}
      },
      "source": [
        "path = '/content/drive/My Drive/Retinal Images/A. Segmentation/1. Original Images/a. Training Set'\n",
        "src_image = load_images(path)\n",
        "#tar_image = load_images('/content/drive/My Drive/Retinal Images/A. Segmentation/2. All Segmentation Groundtruths/a. Training Set/1. Microaneurysms')"
      ],
      "execution_count": 0,
      "outputs": []
    },
    {
      "cell_type": "code",
      "metadata": {
        "id": "Tcu0_C3ouj2o",
        "colab_type": "code",
        "outputId": "feb4313b-c438-43c7-92e6-e2ab444cf953",
        "colab": {
          "base_uri": "https://localhost:8080/",
          "height": 34
        }
      },
      "source": [
        "src = numpy.array(src_image)\n",
        "print('Loaded: ',src.shape)"
      ],
      "execution_count": 73,
      "outputs": [
        {
          "output_type": "stream",
          "text": [
            "Loaded:  (54, 1024, 1024, 3)\n"
          ],
          "name": "stdout"
        }
      ]
    },
    {
      "cell_type": "code",
      "metadata": {
        "id": "ur_lKkWZoZaE",
        "colab_type": "code",
        "colab": {}
      },
      "source": [
        "path = '/content/drive/My Drive/Retinal Images/A. Segmentation/2. All Segmentation Groundtruths/a. Training Set/1. Microaneurysms'\n",
        "tar_image = load_images(path)"
      ],
      "execution_count": 0,
      "outputs": []
    },
    {
      "cell_type": "code",
      "metadata": {
        "id": "KjSv8AEjpGVP",
        "colab_type": "code",
        "outputId": "7588d3db-ecc4-4191-92ba-18620cc013fb",
        "colab": {
          "base_uri": "https://localhost:8080/",
          "height": 34
        }
      },
      "source": [
        "tar = numpy.array(tar_image)\n",
        "print(\"Loaded: \",tar.shape)"
      ],
      "execution_count": 75,
      "outputs": [
        {
          "output_type": "stream",
          "text": [
            "Loaded:  (54, 1024, 1024, 3)\n"
          ],
          "name": "stdout"
        }
      ]
    },
    {
      "cell_type": "code",
      "metadata": {
        "id": "sZJS4uxnpJnP",
        "colab_type": "code",
        "outputId": "9e31e92d-a766-4051-882f-019601368502",
        "colab": {
          "base_uri": "https://localhost:8080/",
          "height": 34
        }
      },
      "source": [
        "print('Loaded: ',src.shape, tar.shape)"
      ],
      "execution_count": 76,
      "outputs": [
        {
          "output_type": "stream",
          "text": [
            "Loaded:  (54, 1024, 1024, 3) (54, 1024, 1024, 3)\n"
          ],
          "name": "stdout"
        }
      ]
    },
    {
      "cell_type": "code",
      "metadata": {
        "id": "idqxiR_Dw78N",
        "colab_type": "code",
        "outputId": "298610d3-1a66-4982-e080-83dbf8dc054d",
        "colab": {
          "base_uri": "https://localhost:8080/",
          "height": 34
        }
      },
      "source": [
        "filename = 'microaneurysms.npz'\n",
        "savez_compressed(filename,src,tar)\n",
        "print('Saved dataset: ',filename)"
      ],
      "execution_count": 77,
      "outputs": [
        {
          "output_type": "stream",
          "text": [
            "Saved dataset:  microaneurysms.npz\n"
          ],
          "name": "stdout"
        }
      ]
    },
    {
      "cell_type": "code",
      "metadata": {
        "id": "4vPrHId3pcK7",
        "colab_type": "code",
        "outputId": "f18ac452-a60e-428c-e95e-1db842f0c2b3",
        "colab": {
          "base_uri": "https://localhost:8080/",
          "height": 265
        }
      },
      "source": [
        "# load the prepared dataset\n",
        "from numpy import load\n",
        "from matplotlib import pyplot\n",
        "# load the dataset\n",
        "data = load('microaneurysms.npz')\n",
        "src_images, tar_images = data['arr_0'], data['arr_1']\n",
        "print('Loaded: ', src_images.shape, tar_images.shape)\n",
        "# plot source images\n",
        "n_samples = 3\n",
        "for i in range(n_samples):\n",
        "\tpyplot.subplot(2, n_samples, 1 + i)\n",
        "\tpyplot.axis('off')\n",
        "\tpyplot.imshow(src_images[i].astype('uint8'))\n",
        "# plot target image\n",
        "for i in range(n_samples):\n",
        "\tpyplot.subplot(2, n_samples, 1 + n_samples + i)\n",
        "\tpyplot.axis('off')\n",
        "\tpyplot.imshow(tar_images[i].astype('uint8'))\n",
        "pyplot.show()"
      ],
      "execution_count": 78,
      "outputs": [
        {
          "output_type": "stream",
          "text": [
            "Loaded:  (54, 1024, 1024, 3) (54, 1024, 1024, 3)\n"
          ],
          "name": "stdout"
        },
        {
          "output_type": "display_data",
          "data": {
            "image/png": "[encoded data removed]",
            "text/plain": [
              "<Figure size 432x288 with 6 Axes>"
            ]
          },
          "metadata": {
            "tags": [],
            "needs_background": "light"
          }
        }
      ]
    },
    {
      "cell_type": "code",
      "metadata": {
        "id": "ey9JZ4lVxRrE",
        "colab_type": "code",
        "colab": {}
      },
      "source": [
        "#Example of pix2pix gan for Original Image to Groundtruth image image-to-image translation\n",
        "from numpy import load\n",
        "from numpy import zeros\n",
        "from numpy import ones\n",
        "from numpy.random import randint\n",
        "from keras.optimizers import Adam\n",
        "from keras.initializers import RandomNormal\n",
        "from keras.models import Model\n",
        "from keras.models import Input\n",
        "from keras.layers import Conv2D\n",
        "from keras.layers import Conv2DTranspose\n",
        "from keras.layers import LeakyReLU\n",
        "from keras.layers import Activation\n",
        "from keras.layers import Concatenate\n",
        "from keras.layers import Dropout\n",
        "from keras.layers import BatchNormalization\n",
        "from keras.layers import LeakyReLU\n",
        "from matplotlib import pyplot"
      ],
      "execution_count": 0,
      "outputs": []
    },
    {
      "cell_type": "code",
      "metadata": {
        "id": "Q8AFpWnPzI4o",
        "colab_type": "code",
        "colab": {}
      },
      "source": [
        "def define_discriminator(image_shape):\n",
        "\t# weight initialization\n",
        "\tinit = RandomNormal(stddev=0.02)\n",
        "\t# source image input\n",
        "\tin_src_image = Input(shape=image_shape)\n",
        "\t# target image input\n",
        "\tin_target_image = Input(shape=image_shape)\n",
        "\t# concatenate images channel-wise\n",
        "\tmerged = Concatenate()([in_src_image, in_target_image])\n",
        "\t# C64\n",
        "\td = Conv2D(64, (4,4), strides=(2,2), padding='same', kernel_initializer=init)(merged)\n",
        "\td = LeakyReLU(alpha=0.2)(d)\n",
        "\t# C128\n",
        "\td = Conv2D(128, (4,4), strides=(2,2), padding='same', kernel_initializer=init)(d)\n",
        "\td = BatchNormalization()(d)\n",
        "\td = LeakyReLU(alpha=0.2)(d)\n",
        "\t# C256\n",
        "\td = Conv2D(256, (4,4), strides=(2,2), padding='same', kernel_initializer=init)(d)\n",
        "\td = BatchNormalization()(d)\n",
        "\td = LeakyReLU(alpha=0.2)(d)\n",
        "\t# C512\n",
        "\td = Conv2D(512, (4,4), strides=(2,2), padding='same', kernel_initializer=init)(d)\n",
        "\td = BatchNormalization()(d)\n",
        "\td = LeakyReLU(alpha=0.2)(d)\n",
        "\t# second last output layer\n",
        "\td = Conv2D(512, (4,4), padding='same', kernel_initializer=init)(d)\n",
        "\td = BatchNormalization()(d)\n",
        "\td = LeakyReLU(alpha=0.2)(d)\n",
        "\t# patch output\n",
        "\td = Conv2D(1, (4,4), padding='same', kernel_initializer=init)(d)\n",
        "\tpatch_out = Activation('sigmoid')(d)\n",
        "\t# define model\n",
        "\tmodel = Model([in_src_image, in_target_image], patch_out)\n",
        "\t# compile model\n",
        "\topt = Adam(lr=0.0002, beta_1=0.5)\n",
        "\tmodel.compile(loss='binary_crossentropy', optimizer=opt, loss_weights=[0.5])\n",
        "\treturn model"
      ],
      "execution_count": 0,
      "outputs": []
    },
    {
      "cell_type": "code",
      "metadata": {
        "id": "G3VE4TDnzNVf",
        "colab_type": "code",
        "colab": {}
      },
      "source": [
        "def define_encoder_block(layer_in, n_filters, batchnorm=True):\n",
        "\t# weight initialization\n",
        "\tinit = RandomNormal(stddev=0.02)\n",
        "\t# add downsampling layer\n",
        "\tg = Conv2D(n_filters, (4,4), strides=(2,2), padding='same', kernel_initializer=init)(layer_in)\n",
        "\t# conditionally add batch normalization\n",
        "\tif batchnorm:\n",
        "\t\tg = BatchNormalization()(g, training=True)\n",
        "\t# leaky relu activation\n",
        "\tg = LeakyReLU(alpha=0.2)(g)\n",
        "\treturn g\n"
      ],
      "execution_count": 0,
      "outputs": []
    },
    {
      "cell_type": "code",
      "metadata": {
        "id": "1bfu_OVfzQg8",
        "colab_type": "code",
        "colab": {}
      },
      "source": [
        "def decoder_block(layer_in, skip_in, n_filters, dropout=True):\n",
        "\t# weight initialization\n",
        "\tinit = RandomNormal(stddev=0.02)\n",
        "\t# add upsampling layer\n",
        "\tg = Conv2DTranspose(n_filters, (4,4), strides=(2,2), padding='same', kernel_initializer=init)(layer_in)\n",
        "\t# add batch normalization\n",
        "\tg = BatchNormalization()(g, training=True)\n",
        "\t# conditionally add dropout\n",
        "\tif dropout:\n",
        "\t\tg = Dropout(0.5)(g, training=True)\n",
        "\t# merge with skip connection\n",
        "\tg = Concatenate()([g, skip_in])\n",
        "\t# relu activation\n",
        "\tg = Activation('relu')(g)\n",
        "\treturn g"
      ],
      "execution_count": 0,
      "outputs": []
    },
    {
      "cell_type": "code",
      "metadata": {
        "id": "mlB50OsOzS0x",
        "colab_type": "code",
        "colab": {}
      },
      "source": [
        "#U NET Model\n",
        "def define_generator(image_shape=(1024,1024,3)):\n",
        "\t# weight initialization\n",
        "\tinit = RandomNormal(stddev=0.02)\n",
        "\t# image input\n",
        "\tin_image = Input(shape=image_shape)\n",
        "\t# encoder model\n",
        "\te1 = define_encoder_block(in_image, 64, batchnorm=False)\n",
        "\te2 = define_encoder_block(e1, 128)\n",
        "\te3 = define_encoder_block(e2, 256)\n",
        "\te4 = define_encoder_block(e3, 512)\n",
        "\te5 = define_encoder_block(e4, 512)\n",
        "\te6 = define_encoder_block(e5, 512)\n",
        "\te7 = define_encoder_block(e6, 512)\n",
        "\t# bottleneck, no batch norm and relu\n",
        "\tb = Conv2D(512, (4,4), strides=(2,2), padding='same', kernel_initializer=init)(e7)\n",
        "\tb = Activation('relu')(b)\n",
        "\t# decoder model\n",
        "\td1 = decoder_block(b, e7, 512)\n",
        "\td2 = decoder_block(d1, e6, 512)\n",
        "\td3 = decoder_block(d2, e5, 512)\n",
        "\td4 = decoder_block(d3, e4, 512, dropout=False)\n",
        "\td5 = decoder_block(d4, e3, 256, dropout=False)\n",
        "\td6 = decoder_block(d5, e2, 128, dropout=False)\n",
        "\td7 = decoder_block(d6, e1, 64, dropout=False)\n",
        "\t# output\n",
        "\tg = Conv2DTranspose(3, (4,4), strides=(2,2), padding='same', kernel_initializer=init)(d7)\n",
        "\tout_image = Activation('tanh')(g)\n",
        "\t# define model\n",
        "\tmodel = Model(in_image, out_image)\n",
        "\treturn model"
      ],
      "execution_count": 0,
      "outputs": []
    },
    {
      "cell_type": "code",
      "metadata": {
        "id": "8mKkhZGQzXpD",
        "colab_type": "code",
        "colab": {}
      },
      "source": [
        "# define the combined generator and discriminator model, for updating the generator\n",
        "def define_gan(g_model, d_model, image_shape):\n",
        "\t# make weights in the discriminator not trainable\n",
        "\td_model.trainable = False\n",
        "\t# define the source image\n",
        "\tin_src = Input(shape=image_shape)\n",
        "\t# connect the source image to the generator input\n",
        "\tgen_out = g_model(in_src)\n",
        "\t# connect the source input and generator output to the discriminator input\n",
        "\tdis_out = d_model([in_src, gen_out])\n",
        "\t# src image as input, generated image and classification output\n",
        "\tmodel = Model(in_src, [dis_out, gen_out])\n",
        "\t# compile model\n",
        "\topt = Adam(lr=0.0002, beta_1=0.5)\n",
        "\tmodel.compile(loss=['binary_crossentropy', 'mae'], optimizer=opt, loss_weights=[1,100])\n",
        "\treturn model"
      ],
      "execution_count": 0,
      "outputs": []
    },
    {
      "cell_type": "code",
      "metadata": {
        "id": "cYbxv8K5zhwf",
        "colab_type": "code",
        "colab": {}
      },
      "source": [
        "# load and prepare training images\n",
        "def load_real_samples(filename):\n",
        "\t# load compressed arrays\n",
        "\tdata = load(filename)\n",
        "\t# unpack arrays\n",
        "\tX1, X2 = data['arr_0'], data['arr_1']\n",
        "\t# scale from [0,255] to [-1,1]\n",
        "\tX1 = (X1 - 127.5) / 127.5\n",
        "\tX2 = (X2 - 127.5) / 127.5\n",
        "\treturn [X1, X2]"
      ],
      "execution_count": 0,
      "outputs": []
    },
    {
      "cell_type": "code",
      "metadata": {
        "id": "WmDDo3ZazkTZ",
        "colab_type": "code",
        "colab": {}
      },
      "source": [
        "# select a batch of random samples, returns images and target\n",
        "def generate_real_samples(dataset, n_samples, patch_shape):\n",
        "\t# unpack dataset\n",
        "\ttrainA, trainB = dataset\n",
        "\t# choose random instances\n",
        "\tix = randint(0, trainA.shape[0], n_samples)\n",
        "\t# retrieve selected images\n",
        "\tX1, X2 = trainA[ix], trainB[ix]\n",
        "\t# generate 'real' class labels (1)\n",
        "\ty = ones((n_samples, patch_shape, patch_shape, 1))\n",
        "\treturn [X1, X2], y"
      ],
      "execution_count": 0,
      "outputs": []
    },
    {
      "cell_type": "code",
      "metadata": {
        "id": "Dr0qdPcTzm5p",
        "colab_type": "code",
        "colab": {}
      },
      "source": [
        "# generate a batch of images, returns images and targets\n",
        "def generate_fake_samples(g_model, samples, patch_shape):\n",
        "\t# generate fake instance\n",
        "\tX = g_model.predict(samples)\n",
        "\t# create 'fake' class labels (0)\n",
        "\ty = zeros((len(X), patch_shape, patch_shape, 1))\n",
        "\treturn X, y\n"
      ],
      "execution_count": 0,
      "outputs": []
    },
    {
      "cell_type": "code",
      "metadata": {
        "id": "h79wKYNpzoqP",
        "colab_type": "code",
        "colab": {}
      },
      "source": [
        "# generate samples and save as a plot and save the model\n",
        "def summarize_performance(step, g_model, dataset, n_samples=3):\n",
        "\t# select a sample of input images\n",
        "\t[X_realA, X_realB], _ = generate_real_samples(dataset, n_samples, 1)\n",
        "\t# generate a batch of fake samples\n",
        "\tX_fakeB, _ = generate_fake_samples(g_model, X_realA, 1)\n",
        "\t# scale all pixels from [-1,1] to [0,1]\n",
        "\tX_realA = (X_realA + 1) / 2.0\n",
        "\tX_realB = (X_realB + 1) / 2.0\n",
        "\tX_fakeB = (X_fakeB + 1) / 2.0\n",
        "\t# plot real source images\n",
        "\tfor i in range(n_samples):\n",
        "\t\tpyplot.subplot(3, n_samples, 1 + i)\n",
        "\t\tpyplot.axis('off')\n",
        "\t\tpyplot.imshow(X_realA[i])\n",
        "\t# plot generated target image\n",
        "\tfor i in range(n_samples):\n",
        "\t\tpyplot.subplot(3, n_samples, 1 + n_samples + i)\n",
        "\t\tpyplot.axis('off')\n",
        "\t\tpyplot.imshow(X_fakeB[i])\n",
        "\t# plot real target image\n",
        "\tfor i in range(n_samples):\n",
        "\t\tpyplot.subplot(3, n_samples, 1 + n_samples*2 + i)\n",
        "\t\tpyplot.axis('off')\n",
        "\t\tpyplot.imshow(X_realB[i])\n",
        "\t# save plot to file\n",
        "\tfilename1 = 'plot_%06d.png' % (step+1)\n",
        "\tpyplot.savefig(filename1)\n",
        "\tpyplot.close()\n",
        "\t# save the generator model\n",
        "\tfilename2 = 'model_%06d.h5' % (step+1)\n",
        "\tg_model.save(filename2)\n",
        "\tprint('>Saved: %s and %s' % (filename1, filename2))"
      ],
      "execution_count": 0,
      "outputs": []
    },
    {
      "cell_type": "code",
      "metadata": {
        "id": "VDYF8be6zrr_",
        "colab_type": "code",
        "colab": {}
      },
      "source": [
        "# train pix2pix models\n",
        "def train(d_model, g_model, gan_model, dataset, n_epochs=10, n_batch=1):\n",
        "\t# determine the output square shape of the discriminator\n",
        "\tn_patch = d_model.output_shape[1]\n",
        "\t# unpack dataset\n",
        "\ttrainA, trainB = dataset\n",
        "\t# calculate the number of batches per training epoch\n",
        "\tbat_per_epo = int(len(trainA) / n_batch)\n",
        "\t# calculate the number of training iterations\n",
        "\tn_steps = bat_per_epo * n_epochs\n",
        "\t# manually enumerate epochs\n",
        "\tfor i in range(n_steps):\n",
        "\t\t# select a batch of real samples\n",
        "\t\t[X_realA, X_realB], y_real = generate_real_samples(dataset, n_batch, n_patch)\n",
        "\t\t# generate a batch of fake samples\n",
        "\t\tX_fakeB, y_fake = generate_fake_samples(g_model, X_realA, n_patch)\n",
        "\t\t# update discriminator for real samples\n",
        "\t\td_loss1 = d_model.train_on_batch([X_realA, X_realB], y_real)\n",
        "\t\t# update discriminator for generated samples\n",
        "\t\td_loss2 = d_model.train_on_batch([X_realA, X_fakeB], y_fake)\n",
        "\t\t# update the generator\n",
        "\t\tg_loss, _, _ = gan_model.train_on_batch(X_realA, [y_real, X_realB])\n",
        "\t\t# summarize performance\n",
        "\t\tprint('>%d, d1[%.3f] d2[%.3f] g[%.3f]' % (i+1, d_loss1, d_loss2, g_loss))\n",
        "\t\t# summarize model performance\n",
        "\t\tif (i+1) % (bat_per_epo * 10) == 0:\n",
        "\t\t\tsummarize_performance(i, g_model, dataset)"
      ],
      "execution_count": 0,
      "outputs": []
    },
    {
      "cell_type": "code",
      "metadata": {
        "id": "28CgoUAezvrp",
        "colab_type": "code",
        "colab": {}
      },
      "source": [
        "dataset = load_real_samples('microaneurysms.npz')"
      ],
      "execution_count": 0,
      "outputs": []
    },
    {
      "cell_type": "code",
      "metadata": {
        "id": "vwVPSRqRz72-",
        "colab_type": "code",
        "outputId": "3b9ddb9e-ddc0-45b7-94f6-25ee028fd710",
        "colab": {
          "base_uri": "https://localhost:8080/",
          "height": 34
        }
      },
      "source": [
        "print('Loaded', dataset[0].shape, dataset[1].shape)"
      ],
      "execution_count": 105,
      "outputs": [
        {
          "output_type": "stream",
          "text": [
            "Loaded (54, 1024, 1024, 3) (54, 1024, 1024, 3)\n"
          ],
          "name": "stdout"
        }
      ]
    },
    {
      "cell_type": "code",
      "metadata": {
        "id": "liv57nP9z_j6",
        "colab_type": "code",
        "colab": {
          "base_uri": "https://localhost:8080/",
          "height": 34
        },
        "outputId": "f640150d-4e98-48e7-dfcf-37429456eb1a"
      },
      "source": [
        "image_shape = dataset[0].shape[1:]\n",
        "print(image_shape)"
      ],
      "execution_count": 106,
      "outputs": [
        {
          "output_type": "stream",
          "text": [
            "(1024, 1024, 3)\n"
          ],
          "name": "stdout"
        }
      ]
    },
    {
      "cell_type": "code",
      "metadata": {
        "id": "-iJ0nPCc0Ckp",
        "colab_type": "code",
        "colab": {}
      },
      "source": [
        "d_model = define_discriminator(image_shape)\n",
        "g_model = define_generator(image_shape)\n",
        "# define the composite model\n",
        "gan_model = define_gan(g_model, d_model, image_shape)"
      ],
      "execution_count": 0,
      "outputs": []
    },
    {
      "cell_type": "code",
      "metadata": {
        "id": "oh7IBD-20GmU",
        "colab_type": "code",
        "colab": {
          "base_uri": "https://localhost:8080/",
          "height": 1000
        },
        "outputId": "c8ddf835-4b3c-44e3-e444-cc3aa6684952"
      },
      "source": [
        "train(d_model, g_model, gan_model, dataset)"
      ],
      "execution_count": 108,
      "outputs": [
        {
          "output_type": "stream",
          "text": [
            "/usr/local/lib/python3.6/dist-packages/keras/engine/training.py:297: UserWarning: Discrepancy between trainable weights and collected trainable weights, did you set `model.trainable` without calling `model.compile` after ?\n",
            "  'Discrepancy between trainable weights and collected trainable'\n"
          ],
          "name": "stderr"
        },
        {
          "output_type": "stream",
          "text": [
            ">1, d1[0.236] d2[2.047] g[101.701]\n",
            ">2, d1[0.260] d2[1.051] g[98.829]\n",
            ">3, d1[0.511] d2[0.908] g[95.216]\n",
            ">4, d1[0.381] d2[0.914] g[92.025]\n",
            ">5, d1[0.253] d2[0.609] g[88.981]\n",
            ">6, d1[0.261] d2[0.476] g[86.139]\n",
            ">7, d1[0.283] d2[0.377] g[83.790]\n",
            ">8, d1[0.291] d2[0.316] g[81.413]\n",
            ">9, d1[0.298] d2[0.299] g[78.866]\n",
            ">10, d1[0.287] d2[0.381] g[76.742]\n",
            ">11, d1[0.297] d2[0.514] g[74.257]\n",
            ">12, d1[0.338] d2[0.345] g[71.270]\n",
            ">13, d1[0.288] d2[0.329] g[70.157]\n",
            ">14, d1[0.267] d2[0.297] g[66.470]\n",
            ">15, d1[0.274] d2[0.248] g[64.297]\n",
            ">16, d1[0.213] d2[0.295] g[61.685]\n",
            ">17, d1[0.263] d2[0.471] g[58.844]\n",
            ">18, d1[0.253] d2[0.278] g[58.244]\n",
            ">19, d1[0.185] d2[0.220] g[54.516]\n",
            ">20, d1[0.206] d2[0.167] g[53.410]\n",
            ">21, d1[0.272] d2[0.284] g[50.119]\n",
            ">22, d1[0.321] d2[0.348] g[47.692]\n",
            ">23, d1[0.156] d2[0.266] g[45.270]\n",
            ">24, d1[0.192] d2[0.187] g[43.622]\n",
            ">25, d1[0.143] d2[0.095] g[42.513]\n",
            ">26, d1[0.095] d2[0.086] g[39.047]\n",
            ">27, d1[0.106] d2[0.197] g[35.496]\n",
            ">28, d1[0.464] d2[0.334] g[34.973]\n",
            ">29, d1[0.302] d2[0.213] g[33.512]\n",
            ">30, d1[0.097] d2[0.176] g[31.543]\n",
            ">31, d1[0.140] d2[0.217] g[31.048]\n",
            ">32, d1[0.092] d2[0.105] g[27.708]\n",
            ">33, d1[0.268] d2[0.183] g[26.359]\n",
            ">34, d1[0.654] d2[0.706] g[22.374]\n",
            ">35, d1[0.484] d2[0.317] g[25.926]\n",
            ">36, d1[0.365] d2[0.382] g[22.251]\n",
            ">37, d1[0.302] d2[0.338] g[21.340]\n",
            ">38, d1[0.254] d2[0.315] g[22.375]\n",
            ">39, d1[0.667] d2[0.297] g[18.003]\n",
            ">40, d1[0.177] d2[0.402] g[16.982]\n",
            ">41, d1[0.505] d2[0.260] g[16.554]\n",
            ">42, d1[0.183] d2[0.766] g[15.352]\n",
            ">43, d1[0.468] d2[0.175] g[14.411]\n",
            ">44, d1[0.455] d2[0.381] g[13.620]\n",
            ">45, d1[0.259] d2[0.339] g[17.571]\n",
            ">46, d1[0.510] d2[0.317] g[14.147]\n",
            ">47, d1[0.248] d2[0.380] g[13.735]\n",
            ">48, d1[0.508] d2[0.361] g[13.302]\n",
            ">49, d1[0.261] d2[0.402] g[13.205]\n",
            ">50, d1[0.497] d2[0.280] g[10.103]\n",
            ">51, d1[0.378] d2[0.521] g[9.997]\n",
            ">52, d1[0.352] d2[0.348] g[10.072]\n",
            ">53, d1[0.438] d2[0.332] g[9.235]\n",
            ">54, d1[0.337] d2[0.396] g[10.920]\n",
            ">55, d1[0.431] d2[0.363] g[9.151]\n",
            ">56, d1[0.306] d2[0.489] g[7.456]\n",
            ">57, d1[0.432] d2[0.287] g[7.560]\n",
            ">58, d1[0.442] d2[0.334] g[7.271]\n",
            ">59, d1[0.362] d2[0.402] g[6.903]\n",
            ">60, d1[0.500] d2[0.354] g[7.432]\n",
            ">61, d1[0.292] d2[0.469] g[5.942]\n",
            ">62, d1[0.425] d2[0.338] g[5.733]\n",
            ">63, d1[0.336] d2[0.404] g[6.414]\n",
            ">64, d1[0.384] d2[0.355] g[6.061]\n",
            ">65, d1[0.490] d2[0.336] g[6.278]\n",
            ">66, d1[0.328] d2[0.439] g[5.383]\n",
            ">67, d1[0.392] d2[0.398] g[4.658]\n",
            ">68, d1[0.428] d2[0.331] g[5.224]\n",
            ">69, d1[0.361] d2[0.402] g[4.412]\n",
            ">70, d1[0.410] d2[0.353] g[5.412]\n",
            ">71, d1[0.378] d2[0.364] g[6.610]\n",
            ">72, d1[0.344] d2[0.408] g[5.752]\n",
            ">73, d1[0.387] d2[0.371] g[4.022]\n",
            ">74, d1[0.388] d2[0.371] g[5.456]\n",
            ">75, d1[0.395] d2[0.366] g[3.920]\n",
            ">76, d1[0.322] d2[0.400] g[6.751]\n",
            ">77, d1[0.434] d2[0.327] g[4.200]\n",
            ">78, d1[0.368] d2[0.403] g[3.819]\n",
            ">79, d1[0.411] d2[0.384] g[3.208]\n",
            ">80, d1[0.413] d2[0.352] g[3.722]\n",
            ">81, d1[0.366] d2[0.381] g[3.663]\n",
            ">82, d1[0.366] d2[0.380] g[3.573]\n",
            ">83, d1[0.363] d2[0.385] g[3.294]\n",
            ">84, d1[0.363] d2[0.388] g[4.066]\n",
            ">85, d1[0.390] d2[0.369] g[3.282]\n",
            ">86, d1[0.409] d2[0.371] g[2.771]\n",
            ">87, d1[0.380] d2[0.374] g[2.923]\n",
            ">88, d1[0.362] d2[0.407] g[2.581]\n",
            ">89, d1[0.362] d2[0.387] g[2.792]\n",
            ">90, d1[0.403] d2[0.350] g[2.760]\n",
            ">91, d1[0.423] d2[0.359] g[2.346]\n",
            ">92, d1[0.409] d2[0.363] g[2.547]\n",
            ">93, d1[0.341] d2[0.427] g[1.914]\n",
            ">94, d1[0.361] d2[0.389] g[1.856]\n",
            ">95, d1[0.404] d2[0.345] g[3.332]\n",
            ">96, d1[0.367] d2[0.392] g[2.633]\n",
            ">97, d1[0.405] d2[0.355] g[3.320]\n",
            ">98, d1[0.374] d2[0.388] g[2.008]\n",
            ">99, d1[0.366] d2[0.379] g[2.955]\n",
            ">100, d1[0.395] d2[0.355] g[2.233]\n",
            ">101, d1[0.366] d2[0.394] g[1.685]\n",
            ">102, d1[0.373] d2[0.379] g[1.914]\n",
            ">103, d1[0.417] d2[0.348] g[2.095]\n",
            ">104, d1[0.380] d2[0.376] g[1.873]\n",
            ">105, d1[0.360] d2[0.394] g[1.555]\n",
            ">106, d1[0.401] d2[0.355] g[1.995]\n",
            ">107, d1[0.376] d2[0.377] g[2.372]\n",
            ">108, d1[0.369] d2[0.378] g[2.092]\n",
            ">109, d1[0.358] d2[0.388] g[1.983]\n",
            ">110, d1[0.372] d2[0.374] g[1.913]\n",
            ">111, d1[0.383] d2[0.367] g[2.581]\n",
            ">112, d1[0.346] d2[0.390] g[3.624]\n",
            ">113, d1[0.381] d2[0.364] g[1.866]\n",
            ">114, d1[0.377] d2[0.369] g[2.779]\n",
            ">115, d1[0.344] d2[0.412] g[1.924]\n",
            ">116, d1[0.410] d2[0.340] g[2.918]\n",
            ">117, d1[0.400] d2[0.360] g[1.662]\n",
            ">118, d1[0.369] d2[0.380] g[1.846]\n",
            ">119, d1[0.394] d2[0.362] g[1.518]\n",
            ">120, d1[0.385] d2[0.369] g[1.479]\n",
            ">121, d1[0.368] d2[0.385] g[1.414]\n",
            ">122, d1[0.368] d2[0.377] g[2.071]\n",
            ">123, d1[0.363] d2[0.387] g[1.525]\n",
            ">124, d1[0.368] d2[0.381] g[1.517]\n",
            ">125, d1[0.364] d2[0.387] g[1.323]\n",
            ">126, d1[0.371] d2[0.379] g[1.318]\n",
            ">127, d1[0.414] d2[0.340] g[1.719]\n",
            ">128, d1[0.397] d2[0.352] g[1.548]\n",
            ">129, d1[0.366] d2[0.380] g[1.534]\n",
            ">130, d1[0.378] d2[0.371] g[1.491]\n",
            ">131, d1[0.375] d2[0.381] g[1.243]\n",
            ">132, d1[0.378] d2[0.370] g[1.463]\n",
            ">133, d1[0.380] d2[0.371] g[1.928]\n",
            ">134, d1[0.351] d2[0.392] g[1.792]\n",
            ">135, d1[0.379] d2[0.360] g[1.578]\n",
            ">136, d1[0.376] d2[0.372] g[1.431]\n",
            ">137, d1[0.371] d2[0.372] g[1.430]\n",
            ">138, d1[0.386] d2[0.367] g[1.560]\n",
            ">139, d1[0.384] d2[0.355] g[1.425]\n",
            ">140, d1[0.379] d2[0.373] g[1.849]\n",
            ">141, d1[0.372] d2[0.380] g[1.240]\n",
            ">142, d1[0.373] d2[0.375] g[1.493]\n",
            ">143, d1[0.354] d2[0.397] g[1.125]\n",
            ">144, d1[0.375] d2[0.367] g[1.417]\n",
            ">145, d1[0.371] d2[0.380] g[1.064]\n",
            ">146, d1[0.406] d2[0.347] g[1.330]\n",
            ">147, d1[0.379] d2[0.369] g[1.293]\n",
            ">148, d1[0.364] d2[0.380] g[1.091]\n",
            ">149, d1[0.363] d2[0.374] g[1.336]\n",
            ">150, d1[0.381] d2[0.365] g[1.358]\n",
            ">151, d1[0.351] d2[0.399] g[1.328]\n",
            ">152, d1[0.377] d2[0.362] g[1.322]\n",
            ">153, d1[0.369] d2[0.379] g[1.391]\n",
            ">154, d1[0.384] d2[0.374] g[1.225]\n",
            ">155, d1[0.394] d2[0.363] g[1.261]\n",
            ">156, d1[0.376] d2[0.366] g[1.271]\n",
            ">157, d1[0.374] d2[0.366] g[1.038]\n",
            ">158, d1[0.361] d2[0.385] g[1.346]\n",
            ">159, d1[0.390] d2[0.373] g[1.043]\n",
            ">160, d1[0.368] d2[0.370] g[1.270]\n",
            ">161, d1[0.388] d2[0.358] g[1.056]\n",
            ">162, d1[0.391] d2[0.359] g[1.059]\n",
            ">163, d1[0.369] d2[0.385] g[1.006]\n",
            ">164, d1[0.346] d2[0.386] g[2.319]\n",
            ">165, d1[0.364] d2[0.363] g[1.263]\n",
            ">166, d1[0.389] d2[0.354] g[1.362]\n",
            ">167, d1[0.364] d2[0.365] g[1.059]\n",
            ">168, d1[0.379] d2[0.367] g[1.226]\n",
            ">169, d1[0.356] d2[0.375] g[1.232]\n",
            ">170, d1[0.385] d2[0.362] g[1.198]\n",
            ">171, d1[0.374] d2[0.366] g[1.162]\n",
            ">172, d1[0.351] d2[0.383] g[1.275]\n",
            ">173, d1[0.362] d2[0.364] g[1.261]\n",
            ">174, d1[0.383] d2[0.370] g[1.116]\n",
            ">175, d1[0.399] d2[0.371] g[1.008]\n",
            ">176, d1[0.375] d2[0.373] g[1.170]\n",
            ">177, d1[0.376] d2[0.376] g[0.972]\n",
            ">178, d1[0.381] d2[0.356] g[1.162]\n",
            ">179, d1[0.363] d2[0.368] g[1.869]\n",
            ">180, d1[0.370] d2[0.360] g[1.352]\n",
            ">181, d1[0.379] d2[0.364] g[1.140]\n",
            ">182, d1[0.357] d2[0.355] g[1.220]\n",
            ">183, d1[0.371] d2[0.364] g[1.113]\n",
            ">184, d1[0.338] d2[0.380] g[1.342]\n",
            ">185, d1[0.350] d2[0.370] g[1.299]\n",
            ">186, d1[0.399] d2[0.358] g[1.122]\n",
            ">187, d1[0.358] d2[0.352] g[1.205]\n",
            ">188, d1[0.399] d2[0.353] g[1.470]\n",
            ">189, d1[0.377] d2[0.369] g[1.037]\n",
            ">190, d1[0.364] d2[0.379] g[1.021]\n",
            ">191, d1[0.359] d2[0.366] g[1.294]\n",
            ">192, d1[0.346] d2[0.357] g[1.179]\n",
            ">193, d1[0.389] d2[0.368] g[1.038]\n",
            ">194, d1[0.360] d2[0.358] g[1.253]\n",
            ">195, d1[0.366] d2[0.388] g[0.991]\n",
            ">196, d1[0.362] d2[0.353] g[1.120]\n",
            ">197, d1[0.401] d2[0.355] g[1.006]\n",
            ">198, d1[0.374] d2[0.368] g[1.009]\n",
            ">199, d1[0.338] d2[0.373] g[1.130]\n",
            ">200, d1[0.342] d2[0.371] g[1.223]\n",
            ">201, d1[0.401] d2[0.358] g[0.983]\n",
            ">202, d1[0.371] d2[0.346] g[1.295]\n",
            ">203, d1[0.353] d2[0.340] g[1.609]\n",
            ">204, d1[0.370] d2[0.375] g[1.371]\n",
            ">205, d1[0.391] d2[0.363] g[0.991]\n",
            ">206, d1[0.329] d2[0.351] g[1.169]\n",
            ">207, d1[0.333] d2[0.346] g[1.830]\n",
            ">208, d1[0.364] d2[0.406] g[0.913]\n",
            ">209, d1[0.379] d2[0.338] g[1.145]\n",
            ">210, d1[0.387] d2[0.348] g[1.101]\n",
            ">211, d1[0.331] d2[0.323] g[1.822]\n",
            ">212, d1[0.431] d2[0.379] g[0.934]\n",
            ">213, d1[0.313] d2[0.345] g[1.245]\n",
            ">214, d1[0.328] d2[0.317] g[1.299]\n",
            ">215, d1[0.465] d2[0.380] g[1.236]\n",
            ">216, d1[0.404] d2[0.389] g[1.167]\n",
            ">217, d1[0.315] d2[0.385] g[0.966]\n",
            ">218, d1[0.346] d2[0.380] g[0.912]\n",
            ">219, d1[0.408] d2[0.350] g[1.005]\n",
            ">220, d1[0.361] d2[0.337] g[1.421]\n",
            ">221, d1[0.338] d2[0.338] g[1.267]\n",
            ">222, d1[0.363] d2[0.340] g[1.082]\n",
            ">223, d1[0.349] d2[0.318] g[0.987]\n",
            ">224, d1[0.356] d2[0.440] g[0.967]\n",
            ">225, d1[0.312] d2[0.326] g[1.003]\n",
            ">226, d1[0.367] d2[0.426] g[1.127]\n",
            ">227, d1[0.320] d2[0.341] g[1.213]\n",
            ">228, d1[0.360] d2[0.363] g[1.016]\n",
            ">229, d1[0.422] d2[0.317] g[1.365]\n",
            ">230, d1[0.368] d2[0.336] g[1.131]\n",
            ">231, d1[0.370] d2[0.324] g[1.138]\n",
            ">232, d1[0.271] d2[0.290] g[1.234]\n",
            ">233, d1[0.312] d2[0.338] g[0.971]\n",
            ">234, d1[0.304] d2[0.350] g[1.711]\n",
            ">235, d1[0.339] d2[0.243] g[1.331]\n",
            ">236, d1[0.342] d2[0.401] g[1.302]\n",
            ">237, d1[0.337] d2[0.251] g[1.315]\n",
            ">238, d1[0.281] d2[0.269] g[1.617]\n",
            ">239, d1[0.373] d2[0.421] g[1.395]\n",
            ">240, d1[0.275] d2[0.425] g[1.194]\n",
            ">241, d1[0.329] d2[0.288] g[1.600]\n",
            ">242, d1[0.478] d2[0.309] g[1.163]\n",
            ">243, d1[0.384] d2[0.343] g[1.071]\n",
            ">244, d1[0.345] d2[0.318] g[1.270]\n",
            ">245, d1[0.318] d2[0.293] g[1.272]\n",
            ">246, d1[0.210] d2[0.362] g[1.286]\n",
            ">247, d1[0.308] d2[0.341] g[1.499]\n",
            ">248, d1[0.361] d2[0.257] g[1.464]\n",
            ">249, d1[0.227] d2[0.211] g[1.623]\n",
            ">250, d1[0.351] d2[0.296] g[1.038]\n",
            ">251, d1[0.450] d2[0.672] g[0.916]\n",
            ">252, d1[0.226] d2[0.441] g[1.139]\n",
            ">253, d1[0.320] d2[0.323] g[1.215]\n",
            ">254, d1[0.308] d2[0.298] g[1.335]\n",
            ">255, d1[0.473] d2[0.333] g[1.361]\n",
            ">256, d1[0.258] d2[0.263] g[1.825]\n",
            ">257, d1[0.286] d2[0.212] g[1.756]\n",
            ">258, d1[0.235] d2[0.220] g[1.711]\n",
            ">259, d1[0.325] d2[0.228] g[1.755]\n",
            ">260, d1[0.267] d2[0.314] g[1.856]\n",
            ">261, d1[0.336] d2[0.169] g[1.797]\n",
            ">262, d1[0.163] d2[0.140] g[2.102]\n",
            ">263, d1[0.282] d2[0.302] g[1.818]\n",
            ">264, d1[0.479] d2[0.456] g[1.342]\n",
            ">265, d1[0.158] d2[0.336] g[1.870]\n",
            ">266, d1[0.218] d2[0.185] g[2.156]\n",
            ">267, d1[0.189] d2[0.104] g[2.491]\n",
            ">268, d1[0.166] d2[0.100] g[2.298]\n",
            ">269, d1[0.209] d2[0.146] g[2.205]\n",
            ">270, d1[0.133] d2[0.115] g[1.376]\n",
            ">271, d1[0.189] d2[0.434] g[2.585]\n",
            ">272, d1[0.155] d2[0.110] g[2.767]\n",
            ">273, d1[0.197] d2[0.089] g[3.278]\n",
            ">274, d1[0.112] d2[0.095] g[2.592]\n",
            ">275, d1[0.124] d2[0.176] g[2.675]\n",
            ">276, d1[0.191] d2[0.138] g[2.452]\n",
            ">277, d1[0.130] d2[0.122] g[2.732]\n",
            ">278, d1[0.122] d2[0.108] g[3.073]\n",
            ">279, d1[0.139] d2[0.054] g[3.182]\n",
            ">280, d1[0.059] d2[0.024] g[3.528]\n",
            ">281, d1[0.062] d2[0.040] g[3.400]\n",
            ">282, d1[0.039] d2[0.020] g[3.709]\n",
            ">283, d1[0.031] d2[0.036] g[3.503]\n",
            ">284, d1[0.386] d2[0.937] g[1.008]\n",
            ">285, d1[0.113] d2[0.884] g[2.078]\n",
            ">286, d1[0.393] d2[0.364] g[2.412]\n",
            ">287, d1[0.312] d2[0.232] g[2.332]\n",
            ">288, d1[0.274] d2[0.087] g[2.995]\n",
            ">289, d1[0.275] d2[0.077] g[3.134]\n",
            ">290, d1[0.147] d2[0.053] g[3.131]\n",
            ">291, d1[0.450] d2[0.825] g[1.559]\n",
            ">292, d1[0.256] d2[0.441] g[1.289]\n",
            ">293, d1[0.264] d2[0.277] g[1.418]\n",
            ">294, d1[0.300] d2[0.208] g[1.839]\n",
            ">295, d1[0.220] d2[0.169] g[1.997]\n",
            ">296, d1[0.465] d2[0.294] g[1.268]\n",
            ">297, d1[0.149] d2[0.216] g[1.850]\n",
            ">298, d1[0.129] d2[0.160] g[2.098]\n",
            ">299, d1[0.181] d2[0.184] g[2.199]\n",
            ">300, d1[0.160] d2[0.144] g[2.501]\n",
            ">301, d1[0.149] d2[0.072] g[2.734]\n",
            ">302, d1[0.092] d2[0.052] g[2.899]\n",
            ">303, d1[0.087] d2[0.054] g[3.140]\n",
            ">304, d1[0.060] d2[0.056] g[3.449]\n",
            ">305, d1[0.049] d2[0.063] g[3.584]\n",
            ">306, d1[0.110] d2[0.166] g[1.808]\n",
            ">307, d1[0.101] d2[0.133] g[2.925]\n",
            ">308, d1[0.098] d2[0.114] g[3.114]\n",
            ">309, d1[0.083] d2[0.045] g[3.375]\n",
            ">310, d1[0.326] d2[1.216] g[2.171]\n",
            ">311, d1[0.163] d2[0.298] g[2.115]\n",
            ">312, d1[0.175] d2[0.180] g[2.530]\n",
            ">313, d1[0.184] d2[0.191] g[2.291]\n",
            ">314, d1[0.171] d2[0.075] g[2.856]\n",
            ">315, d1[0.218] d2[0.112] g[2.318]\n",
            ">316, d1[0.099] d2[0.130] g[2.720]\n",
            ">317, d1[0.095] d2[0.054] g[3.340]\n",
            ">318, d1[0.237] d2[0.162] g[2.637]\n",
            ">319, d1[0.071] d2[0.106] g[3.709]\n",
            ">320, d1[0.119] d2[0.106] g[3.059]\n",
            ">321, d1[0.068] d2[0.083] g[3.412]\n",
            ">322, d1[0.063] d2[0.040] g[3.136]\n",
            ">323, d1[0.041] d2[0.039] g[3.723]\n",
            ">324, d1[0.054] d2[0.025] g[4.084]\n",
            ">325, d1[0.047] d2[0.015] g[4.236]\n",
            ">326, d1[0.037] d2[0.013] g[4.176]\n",
            ">327, d1[0.035] d2[0.028] g[4.229]\n",
            ">328, d1[0.030] d2[0.011] g[4.388]\n",
            ">329, d1[0.028] d2[0.010] g[4.269]\n",
            ">330, d1[0.045] d2[0.011] g[3.957]\n",
            ">331, d1[0.013] d2[0.012] g[4.260]\n",
            ">332, d1[0.025] d2[0.111] g[3.886]\n",
            ">333, d1[0.033] d2[0.014] g[4.499]\n",
            ">334, d1[0.062] d2[0.011] g[4.101]\n",
            ">335, d1[0.024] d2[0.053] g[3.781]\n",
            ">336, d1[0.049] d2[0.008] g[4.506]\n",
            ">337, d1[0.018] d2[0.026] g[3.810]\n",
            ">338, d1[0.017] d2[0.064] g[3.703]\n",
            ">339, d1[0.040] d2[0.033] g[4.437]\n",
            ">340, d1[0.044] d2[0.130] g[7.616]\n",
            ">341, d1[0.044] d2[0.211] g[3.646]\n",
            ">342, d1[0.190] d2[0.321] g[3.862]\n",
            ">343, d1[1.038] d2[0.166] g[3.475]\n",
            ">344, d1[0.054] d2[0.511] g[3.085]\n",
            ">345, d1[0.071] d2[0.067] g[3.989]\n",
            ">346, d1[0.117] d2[0.034] g[3.966]\n",
            ">347, d1[0.081] d2[0.019] g[3.851]\n",
            ">348, d1[0.038] d2[0.017] g[4.166]\n",
            ">349, d1[0.031] d2[0.088] g[3.228]\n",
            ">350, d1[0.044] d2[0.116] g[3.309]\n",
            ">351, d1[0.073] d2[0.176] g[3.109]\n",
            ">352, d1[0.104] d2[0.133] g[3.257]\n",
            ">353, d1[0.148] d2[0.040] g[3.555]\n",
            ">354, d1[0.296] d2[1.034] g[2.146]\n",
            ">355, d1[0.248] d2[0.121] g[2.655]\n",
            ">356, d1[0.470] d2[0.236] g[2.035]\n",
            ">357, d1[0.115] d2[0.120] g[2.585]\n",
            ">358, d1[0.091] d2[0.503] g[3.345]\n",
            ">359, d1[0.307] d2[0.817] g[1.547]\n",
            ">360, d1[0.183] d2[0.350] g[2.256]\n",
            ">361, d1[0.963] d2[0.210] g[1.524]\n",
            ">362, d1[0.247] d2[0.600] g[1.140]\n",
            ">363, d1[0.242] d2[0.396] g[1.680]\n",
            ">364, d1[0.256] d2[0.376] g[1.956]\n",
            ">365, d1[0.292] d2[0.182] g[2.131]\n",
            ">366, d1[0.333] d2[0.212] g[2.002]\n",
            ">367, d1[0.146] d2[0.384] g[2.513]\n",
            ">368, d1[0.200] d2[0.242] g[1.879]\n",
            ">369, d1[0.333] d2[0.481] g[1.423]\n",
            ">370, d1[0.378] d2[0.726] g[1.364]\n",
            ">371, d1[0.805] d2[0.537] g[0.934]\n",
            ">372, d1[0.660] d2[0.456] g[1.339]\n",
            ">373, d1[0.279] d2[0.499] g[1.349]\n",
            ">374, d1[0.341] d2[0.287] g[1.556]\n",
            ">375, d1[0.345] d2[0.242] g[1.541]\n",
            ">376, d1[0.452] d2[0.339] g[1.219]\n",
            ">377, d1[0.377] d2[0.354] g[1.468]\n",
            ">378, d1[0.300] d2[0.361] g[1.484]\n",
            ">379, d1[0.260] d2[0.372] g[1.433]\n",
            ">380, d1[0.510] d2[0.300] g[1.325]\n",
            ">381, d1[0.208] d2[0.315] g[1.517]\n",
            ">382, d1[0.446] d2[0.312] g[1.326]\n",
            ">383, d1[0.290] d2[0.287] g[1.417]\n",
            ">384, d1[0.352] d2[0.271] g[1.416]\n",
            ">385, d1[0.181] d2[0.419] g[1.575]\n",
            ">386, d1[0.237] d2[0.274] g[1.594]\n",
            ">387, d1[0.284] d2[0.407] g[1.304]\n",
            ">388, d1[0.245] d2[0.155] g[2.074]\n",
            ">389, d1[0.307] d2[0.410] g[1.801]\n",
            ">390, d1[0.222] d2[0.182] g[2.079]\n",
            ">391, d1[0.732] d2[0.348] g[1.475]\n",
            ">392, d1[0.162] d2[0.255] g[1.838]\n",
            ">393, d1[0.114] d2[0.194] g[2.324]\n",
            ">394, d1[0.598] d2[0.482] g[1.466]\n",
            ">395, d1[0.203] d2[0.314] g[1.801]\n",
            ">396, d1[0.308] d2[0.345] g[1.698]\n",
            ">397, d1[0.542] d2[0.523] g[1.252]\n",
            ">398, d1[0.399] d2[0.389] g[1.148]\n",
            ">399, d1[0.343] d2[0.355] g[1.210]\n",
            ">400, d1[0.561] d2[0.404] g[1.013]\n",
            ">401, d1[0.370] d2[0.399] g[1.198]\n",
            ">402, d1[0.477] d2[0.388] g[1.066]\n",
            ">403, d1[0.363] d2[0.360] g[1.096]\n",
            ">404, d1[0.311] d2[0.321] g[1.151]\n",
            ">405, d1[0.309] d2[0.328] g[1.188]\n",
            ">406, d1[0.280] d2[0.271] g[1.501]\n",
            ">407, d1[0.327] d2[0.296] g[1.594]\n",
            ">408, d1[0.309] d2[0.295] g[1.744]\n",
            ">409, d1[0.268] d2[0.221] g[1.557]\n",
            ">410, d1[0.255] d2[0.211] g[1.630]\n",
            ">411, d1[0.240] d2[0.210] g[1.838]\n",
            ">412, d1[0.142] d2[0.137] g[1.983]\n",
            ">413, d1[0.138] d2[0.128] g[2.195]\n",
            ">414, d1[0.068] d2[0.089] g[2.627]\n",
            ">415, d1[0.092] d2[0.075] g[2.531]\n",
            ">416, d1[0.070] d2[0.184] g[2.928]\n",
            ">417, d1[0.173] d2[0.041] g[3.146]\n",
            ">418, d1[0.290] d2[0.703] g[2.606]\n",
            ">419, d1[0.279] d2[0.087] g[2.370]\n",
            ">420, d1[0.175] d2[0.177] g[2.388]\n",
            ">421, d1[0.898] d2[0.589] g[1.709]\n",
            ">422, d1[0.209] d2[0.231] g[2.160]\n",
            ">423, d1[0.255] d2[0.210] g[2.335]\n",
            ">424, d1[0.352] d2[0.253] g[1.920]\n",
            ">425, d1[0.224] d2[0.266] g[1.991]\n",
            ">426, d1[0.134] d2[0.463] g[1.711]\n",
            ">427, d1[0.319] d2[0.315] g[1.523]\n",
            ">428, d1[0.485] d2[0.424] g[1.376]\n",
            ">429, d1[0.416] d2[0.313] g[1.118]\n",
            ">430, d1[0.289] d2[0.443] g[1.316]\n",
            ">431, d1[0.234] d2[0.367] g[1.506]\n",
            ">432, d1[0.336] d2[0.360] g[1.766]\n",
            ">433, d1[0.391] d2[0.824] g[1.087]\n",
            ">434, d1[0.327] d2[0.340] g[1.678]\n",
            ">435, d1[0.541] d2[0.385] g[1.351]\n",
            ">436, d1[0.323] d2[0.365] g[1.309]\n",
            ">437, d1[0.276] d2[0.242] g[1.722]\n",
            ">438, d1[0.392] d2[0.222] g[1.546]\n",
            ">439, d1[0.273] d2[0.289] g[1.633]\n",
            ">440, d1[0.226] d2[0.233] g[1.929]\n",
            ">441, d1[0.200] d2[0.242] g[2.003]\n",
            ">443, d1[0.249] d2[0.223] g[2.293]\n",
            ">444, d1[0.269] d2[0.293] g[2.254]\n",
            ">445, d1[0.298] d2[0.232] g[2.290]\n",
            ">446, d1[0.471] d2[0.273] g[1.968]\n",
            ">447, d1[0.197] d2[0.140] g[2.437]\n",
            ">448, d1[0.464] d2[0.761] g[1.723]\n",
            ">449, d1[0.394] d2[0.812] g[0.981]\n",
            ">450, d1[0.320] d2[0.317] g[1.548]\n",
            ">451, d1[0.632] d2[0.329] g[1.322]\n",
            ">452, d1[0.453] d2[0.315] g[1.409]\n",
            ">453, d1[0.257] d2[0.359] g[2.077]\n",
            ">454, d1[0.558] d2[0.295] g[1.314]\n",
            ">455, d1[0.203] d2[0.223] g[1.831]\n",
            ">456, d1[0.253] d2[0.180] g[1.756]\n",
            ">457, d1[0.167] d2[0.188] g[1.970]\n",
            ">458, d1[0.151] d2[0.175] g[2.279]\n",
            ">459, d1[0.233] d2[0.145] g[2.294]\n",
            ">460, d1[0.124] d2[0.131] g[2.445]\n",
            ">461, d1[0.189] d2[0.274] g[3.203]\n",
            ">462, d1[0.384] d2[0.262] g[2.143]\n",
            ">463, d1[0.150] d2[0.363] g[2.511]\n",
            ">464, d1[0.337] d2[0.410] g[1.908]\n",
            ">465, d1[0.316] d2[0.382] g[1.664]\n",
            ">466, d1[0.268] d2[0.492] g[1.586]\n",
            ">467, d1[0.516] d2[0.704] g[1.240]\n",
            ">468, d1[0.335] d2[0.413] g[1.726]\n",
            ">469, d1[0.475] d2[0.329] g[2.079]\n",
            ">470, d1[0.599] d2[0.345] g[1.361]\n",
            ">471, d1[0.321] d2[0.304] g[1.508]\n",
            ">472, d1[0.544] d2[0.321] g[1.326]\n",
            ">473, d1[0.180] d2[0.246] g[1.840]\n",
            ">474, d1[0.287] d2[0.183] g[1.739]\n",
            ">475, d1[0.265] d2[0.215] g[1.738]\n",
            ">476, d1[0.280] d2[0.263] g[1.815]\n",
            ">477, d1[0.170] d2[0.187] g[2.519]\n",
            ">478, d1[0.207] d2[0.138] g[2.105]\n",
            ">479, d1[0.110] d2[0.124] g[2.156]\n",
            ">480, d1[0.080] d2[0.087] g[2.465]\n",
            ">481, d1[0.080] d2[0.085] g[2.356]\n",
            ">482, d1[0.117] d2[0.054] g[2.754]\n",
            ">483, d1[0.093] d2[0.055] g[2.708]\n",
            ">484, d1[0.082] d2[0.055] g[2.894]\n",
            ">485, d1[0.048] d2[0.044] g[3.259]\n",
            ">486, d1[0.075] d2[0.035] g[3.121]\n",
            ">487, d1[0.025] d2[0.028] g[3.326]\n",
            ">488, d1[0.046] d2[0.028] g[3.378]\n",
            ">489, d1[0.063] d2[0.021] g[3.324]\n",
            ">490, d1[0.026] d2[0.026] g[3.497]\n",
            ">491, d1[0.024] d2[0.043] g[3.307]\n",
            ">492, d1[0.025] d2[0.099] g[3.361]\n",
            ">493, d1[0.130] d2[0.277] g[3.915]\n",
            ">494, d1[0.063] d2[0.115] g[3.948]\n",
            ">495, d1[0.287] d2[0.061] g[3.310]\n",
            ">496, d1[0.043] d2[0.063] g[3.076]\n",
            ">497, d1[0.052] d2[0.172] g[2.564]\n",
            ">498, d1[0.167] d2[0.679] g[1.588]\n",
            ">499, d1[0.199] d2[0.225] g[1.902]\n",
            ">500, d1[0.238] d2[0.199] g[1.784]\n",
            ">501, d1[0.161] d2[0.204] g[1.726]\n",
            ">502, d1[0.141] d2[0.259] g[1.673]\n",
            ">503, d1[0.424] d2[0.450] g[1.560]\n",
            ">504, d1[0.087] d2[0.605] g[1.418]\n",
            ">505, d1[0.222] d2[0.281] g[1.637]\n",
            ">506, d1[0.275] d2[0.197] g[1.734]\n",
            ">507, d1[0.170] d2[0.173] g[1.848]\n",
            ">508, d1[0.171] d2[0.192] g[1.847]\n",
            ">509, d1[0.149] d2[0.146] g[2.049]\n",
            ">510, d1[0.259] d2[0.186] g[2.405]\n",
            ">511, d1[0.180] d2[0.127] g[1.981]\n",
            ">512, d1[0.085] d2[0.151] g[2.302]\n",
            ">513, d1[0.139] d2[0.121] g[2.041]\n",
            ">514, d1[0.084] d2[0.113] g[2.202]\n",
            ">515, d1[0.091] d2[0.087] g[2.338]\n",
            ">516, d1[0.067] d2[0.097] g[2.400]\n",
            ">517, d1[0.151] d2[0.155] g[2.388]\n",
            ">518, d1[0.559] d2[0.497] g[1.535]\n",
            ">519, d1[0.052] d2[0.949] g[2.508]\n",
            ">520, d1[0.591] d2[0.428] g[1.795]\n",
            ">521, d1[0.512] d2[0.191] g[1.892]\n",
            ">522, d1[0.339] d2[0.436] g[1.391]\n",
            ">523, d1[0.222] d2[0.307] g[1.688]\n",
            ">524, d1[0.229] d2[0.247] g[2.324]\n",
            ">525, d1[0.257] d2[0.124] g[2.311]\n",
            ">526, d1[0.886] d2[0.485] g[1.354]\n",
            ">527, d1[0.102] d2[0.251] g[2.055]\n",
            ">528, d1[0.145] d2[0.129] g[2.722]\n",
            ">529, d1[0.182] d2[0.343] g[2.247]\n",
            ">530, d1[0.250] d2[0.160] g[2.668]\n",
            ">531, d1[0.140] d2[0.050] g[3.194]\n",
            ">532, d1[0.089] d2[0.049] g[3.423]\n",
            ">533, d1[0.066] d2[0.034] g[3.486]\n",
            ">534, d1[0.040] d2[0.046] g[3.758]\n",
            ">535, d1[0.071] d2[0.022] g[3.578]\n",
            ">536, d1[0.041] d2[0.019] g[3.626]\n",
            ">537, d1[0.027] d2[0.040] g[3.425]\n",
            ">538, d1[0.024] d2[0.144] g[2.510]\n",
            ">539, d1[0.038] d2[0.355] g[2.292]\n",
            ">540, d1[0.420] d2[0.172] g[2.194]\n",
            ">Saved: plot_000540.png and model_000540.h5\n"
          ],
          "name": "stdout"
        }
      ]
    },
    {
      "cell_type": "code",
      "metadata": {
        "id": "5q7enDTG0JAG",
        "colab_type": "code",
        "colab": {}
      },
      "source": [
        "# load and prepare training images\n",
        "def load_real_samples(filename):\n",
        "\t# load compressed ararys\n",
        "\tdata = load(filename)\n",
        "\t# unpack arrays\n",
        "\tX1, X2 = data['arr_0'], data['arr_1']\n",
        "\t# scale from [0,1024] to [-1,1]\n",
        "\tX1 = (X1 - 512) / 512\n",
        "\tX2 = (X2 - 512) / 512\n",
        "\treturn [X1, X2]"
      ],
      "execution_count": 0,
      "outputs": []
    },
    {
      "cell_type": "code",
      "metadata": {
        "id": "uK1pnHzf0LZj",
        "colab_type": "code",
        "colab": {
          "base_uri": "https://localhost:8080/",
          "height": 34
        },
        "outputId": "1f1f308c-c4d3-459a-ed89-6d812c083b5f"
      },
      "source": [
        "# load dataset\n",
        "[X1, X2] = load_real_samples('microaneurysms.npz')\n",
        "print('Loaded', X1.shape, X2.shape)"
      ],
      "execution_count": 112,
      "outputs": [
        {
          "output_type": "stream",
          "text": [
            "Loaded (54, 1024, 1024, 3) (54, 1024, 1024, 3)\n"
          ],
          "name": "stdout"
        }
      ]
    },
    {
      "cell_type": "code",
      "metadata": {
        "id": "upqbxP8sPjXD",
        "colab_type": "code",
        "colab": {
          "base_uri": "https://localhost:8080/",
          "height": 50
        },
        "outputId": "724af151-a5be-43be-a903-7d71742d7000"
      },
      "source": [
        "# load model\n",
        "from keras import models\n",
        "model = models.load_model('model_000540.h5')"
      ],
      "execution_count": 114,
      "outputs": [
        {
          "output_type": "stream",
          "text": [
            "/usr/local/lib/python3.6/dist-packages/keras/engine/saving.py:341: UserWarning: No training configuration found in save file: the model was *not* compiled. Compile it manually.\n",
            "  warnings.warn('No training configuration found in save file: '\n"
          ],
          "name": "stderr"
        }
      ]
    },
    {
      "cell_type": "code",
      "metadata": {
        "id": "8KuiVPEVPz5u",
        "colab_type": "code",
        "colab": {}
      },
      "source": [
        "# select random example\n",
        "ix = randint(0, len(X1), 1)\n",
        "src_image, tar_image = X1[ix], X2[ix]"
      ],
      "execution_count": 0,
      "outputs": []
    },
    {
      "cell_type": "code",
      "metadata": {
        "id": "ss7DqRhiQE_2",
        "colab_type": "code",
        "colab": {}
      },
      "source": [
        "gen_image = model.predict(src_image)"
      ],
      "execution_count": 0,
      "outputs": []
    },
    {
      "cell_type": "code",
      "metadata": {
        "id": "dVKBIK5EQHv0",
        "colab_type": "code",
        "colab": {}
      },
      "source": [
        "# plot source, generated and target images\n",
        "def plot_images(src_img, gen_img, tar_img):\n",
        "\timages = vstack((src_img, gen_img, tar_img))\n",
        "\t# scale from [-1,1] to [0,1]\n",
        "\timages = (images + 1) / 2.0\n",
        "\ttitles = ['Source', 'Generated', 'Expected']\n",
        "\t# plot images row by row\n",
        "\tfor i in range(len(images)):\n",
        "\t\t# define subplot\n",
        "\t\tpyplot.subplot(1, 3, 1 + i)\n",
        "\t\t# turn off axis\n",
        "\t\tpyplot.axis('off')\n",
        "\t\t# plot raw pixel data\n",
        "\t\tpyplot.imshow(images[i])\n",
        "\t\t# show title\n",
        "\t\tpyplot.title(titles[i])\n",
        "\tpyplot.show()"
      ],
      "execution_count": 0,
      "outputs": []
    },
    {
      "cell_type": "code",
      "metadata": {
        "id": "dr7ky-AHQRwF",
        "colab_type": "code",
        "colab": {
          "base_uri": "https://localhost:8080/",
          "height": 145
        },
        "outputId": "79a78420-ccba-4885-d6a1-39d7d077cc09"
      },
      "source": [
        "# plot all three images\n",
        "plot_images(src_image, gen_image, tar_image)"
      ],
      "execution_count": 122,
      "outputs": [
        {
          "output_type": "display_data",
          "data": {
            "image/png": "[encoded data removed]",
            "text/plain": [
              "<Figure size 432x288 with 3 Axes>"
            ]
          },
          "metadata": {
            "tags": [],
            "needs_background": "light"
          }
        }
      ]
    },
    {
      "cell_type": "code",
      "metadata": {
        "id": "B6wiVdbcQUrz",
        "colab_type": "code",
        "colab": {}
      },
      "source": [
        ""
      ],
      "execution_count": 0,
      "outputs": []
    }
  ]
}